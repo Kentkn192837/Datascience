{
 "cells": [
  {
   "cell_type": "code",
   "execution_count": 1,
   "id": "4f6b3e9d-630a-4089-97d6-3816680a8910",
   "metadata": {},
   "outputs": [],
   "source": [
    "import numpy as np\n",
    "from matplotlib import pyplot as plt\n",
    "%matplotlib inline"
   ]
  },
  {
   "cell_type": "code",
   "execution_count": 2,
   "id": "279568c6-472b-47ea-ad5e-45937da7f59b",
   "metadata": {},
   "outputs": [
    {
     "data": {
      "text/plain": [
       "array([0.5488135 , 0.71518937, 0.60276338, 0.54488318, 0.4236548 ,\n",
       "       0.64589411, 0.43758721, 0.891773  , 0.96366276, 0.38344152])"
      ]
     },
     "execution_count": 2,
     "metadata": {},
     "output_type": "execute_result"
    }
   ],
   "source": [
    "# 乱数を固定\n",
    "np.random.seed(0)\n",
    "\n",
    "# 0.0以上1.0未満の一様分布を生成\n",
    "rand_list = np.random.rand(10)\n",
    "rand_list"
   ]
  },
  {
   "cell_type": "code",
   "execution_count": 3,
   "id": "8ad04d79-79ab-4e8a-a6b3-6c5ab0955738",
   "metadata": {},
   "outputs": [
    {
     "data": {
      "text/plain": [
       "array([[0.79172504, 0.52889492, 0.56804456],\n",
       "       [0.92559664, 0.07103606, 0.0871293 ],\n",
       "       [0.0202184 , 0.83261985, 0.77815675]])"
      ]
     },
     "execution_count": 3,
     "metadata": {},
     "output_type": "execute_result"
    }
   ],
   "source": [
    "# 3行3列の行列\n",
    "rand_list = np.random.rand(3, 3)\n",
    "rand_list"
   ]
  },
  {
   "cell_type": "code",
   "execution_count": 4,
   "id": "7d3aea12-7259-4c5e-8a84-8efe02747c5f",
   "metadata": {},
   "outputs": [
    {
     "data": {
      "text/plain": [
       "array([[3.7400243 , 3.95723668, 3.59831713, 2.92295872],\n",
       "       [3.56105835, 2.23654885, 3.27984204, 2.28670657],\n",
       "       [3.88933783, 3.04369664, 2.82932388, 2.52911122],\n",
       "       [3.54846738, 2.91230066, 3.1368679 , 2.0375796 ]])"
      ]
     },
     "execution_count": 4,
     "metadata": {},
     "output_type": "execute_result"
    }
   ],
   "source": [
    "# a以上b未満の範囲での乱数を取得したいとき\n",
    "a = 2\n",
    "b = 4\n",
    "\n",
    "# a以上b未満で4行4列の一様分布乱数の要素を持つ行列\n",
    "rand_list = (b - a) * np.random.rand(4, 4) + a\n",
    "rand_list"
   ]
  },
  {
   "cell_type": "code",
   "execution_count": 5,
   "id": "30b309f1-fa47-448b-887f-2344367a8cd7",
   "metadata": {},
   "outputs": [
    {
     "data": {
      "text/plain": [
       "array([2, 1])"
      ]
     },
     "execution_count": 5,
     "metadata": {},
     "output_type": "execute_result"
    }
   ],
   "source": [
    "# 横ベクトルの表し方\n",
    "a = np.array([2, 1])\n",
    "a"
   ]
  },
  {
   "cell_type": "code",
   "execution_count": 6,
   "id": "645ded4d-a3a8-4de9-a8b7-7ebde2cb8753",
   "metadata": {},
   "outputs": [
    {
     "data": {
      "text/plain": [
       "array([[1],\n",
       "       [2]])"
      ]
     },
     "execution_count": 6,
     "metadata": {},
     "output_type": "execute_result"
    }
   ],
   "source": [
    "# 縦ベクトルの表し方\n",
    "a = np.array([[1], [2]])\n",
    "a"
   ]
  },
  {
   "cell_type": "code",
   "execution_count": 7,
   "id": "c730b1c4-8d62-428e-be5a-1fd3474c4170",
   "metadata": {},
   "outputs": [
    {
     "name": "stdout",
     "output_type": "stream",
     "text": [
      "[[1 2]\n",
      " [3 4]]\n"
     ]
    }
   ],
   "source": [
    "# 2×2の行列\n",
    "a = np.array([[1, 2], [3, 4]])\n",
    "print(a)"
   ]
  },
  {
   "cell_type": "code",
   "execution_count": 8,
   "id": "97076ff2-6355-46b5-bc22-1aeeb6812a9f",
   "metadata": {},
   "outputs": [
    {
     "data": {
      "text/plain": [
       "array([[1, 3],\n",
       "       [2, 4]])"
      ]
     },
     "execution_count": 8,
     "metadata": {},
     "output_type": "execute_result"
    }
   ],
   "source": [
    "a.T"
   ]
  },
  {
   "cell_type": "code",
   "execution_count": 9,
   "id": "26424426-c8c5-4adc-b925-32016df51f11",
   "metadata": {},
   "outputs": [
    {
     "name": "stdout",
     "output_type": "stream",
     "text": [
      "10\n"
     ]
    }
   ],
   "source": [
    "# 内積の計算\n",
    "b = np.array([1, 3])\n",
    "c = np.array([4, 2])\n",
    "print(b.dot(c))"
   ]
  },
  {
   "cell_type": "code",
   "execution_count": 10,
   "id": "baffd173-f423-4939-869b-2a721be15ef2",
   "metadata": {},
   "outputs": [
    {
     "name": "stdout",
     "output_type": "stream",
     "text": [
      "3.1622776601683795\n"
     ]
    }
   ],
   "source": [
    "# ベクトルの大きさ ノルムの計算\n",
    "a = np.array([1, 3])\n",
    "print(np.linalg.norm(a))"
   ]
  }
 ],
 "metadata": {
  "kernelspec": {
   "display_name": "Python 3",
   "language": "python",
   "name": "python3"
  },
  "language_info": {
   "codemirror_mode": {
    "name": "ipython",
    "version": 3
   },
   "file_extension": ".py",
   "mimetype": "text/x-python",
   "name": "python",
   "nbconvert_exporter": "python",
   "pygments_lexer": "ipython3",
   "version": "3.8.5"
  }
 },
 "nbformat": 4,
 "nbformat_minor": 5
}
