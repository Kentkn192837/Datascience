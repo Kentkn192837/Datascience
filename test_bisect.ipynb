{
 "cells": [
  {
   "cell_type": "markdown",
   "id": "062e0969-5db4-4cd4-b21f-c241536a3a9d",
   "metadata": {},
   "source": [
    "参考:https://docs.python.org/ja/3/library/bisect.html\n",
    "\n",
    "### bisect.bisect_left(a, x, lo=0, hi=len(a))\n",
    "ソートされた順序を保ったまま x を a に挿入できる点を探し当てます。リストの中から検索する部分集合を指定するには、パラメータの lo と hi を使います。デフォルトでは、リスト全体が使われます。x がすでに a に含まれている場合、挿入点は既存のどのエントリーよりも前(左)になります。戻り値は、list.insert() の第一引数として使うのに適しています。a はすでにソートされているものとします。\n",
    "\n",
    "返された挿入点 i は、配列 a を二つに分け、all(val < x for val in a[lo:i]) が左側に、all(val >= x for val in a[i:hi])が右側になるようにします。\n",
    "\n",
    "### bisect.bisect_right(a, x, lo=0, hi=len(a))\n",
    "### bisect.bisect(a, x, lo=0, hi=len(a))\n",
    "bisect_left() と似ていますが、 a に含まれる x のうち、どのエントリーよりも後ろ(右)にくるような挿入点を返します。\n",
    "\n",
    "返された挿入点 i は、配列 a を二つに分け、all(val <= x for val in a[lo:i]) が左側に、all(val > x for val in a[i:hi]) が右側になるようにします。\n",
    "\n",
    "### bisect.insort_left(a, x, lo=0, hi=len(a))\n",
    "x を a にソート順で挿入します。これは、a がすでにソートされている場合、a.insert(bisect.bisect_left(a, x, lo, hi), x) と等価です。なお、O(log n) の探索に対して、遅い O(n) の挿入の段階が律速となります。\n",
    "\n",
    "### bisect.insort_right(a, x, lo=0, hi=len(a))\n",
    "### bisect.insort(a, x, lo=0, hi=len(a))\n",
    "insort_left() と似ていますが、 a に含まれる x のうち、どのエントリーよりも後ろに x を挿入します。"
   ]
  },
  {
   "cell_type": "code",
   "execution_count": 2,
   "id": "a1949aa7-b7dd-42de-b913-edc45ae24776",
   "metadata": {},
   "outputs": [],
   "source": [
    "import bisect"
   ]
  },
  {
   "cell_type": "code",
   "execution_count": 3,
   "id": "cbb51579-9c18-40ce-b352-9c1eeae72800",
   "metadata": {},
   "outputs": [
    {
     "data": {
      "text/plain": [
       "[1, 2, 5, 6, 9, 11, 17, 23, 24, 39]"
      ]
     },
     "execution_count": 3,
     "metadata": {},
     "output_type": "execute_result"
    }
   ],
   "source": [
    "data = [17, 39, 1, 9, 5, 24, 2, 11, 23, 6]\n",
    "data.sort()\n",
    "data"
   ]
  },
  {
   "cell_type": "code",
   "execution_count": 6,
   "id": "e50ac454-e97a-4a3c-a293-9fd56237e468",
   "metadata": {},
   "outputs": [
    {
     "data": {
      "text/plain": [
       "6"
      ]
     },
     "execution_count": 6,
     "metadata": {},
     "output_type": "execute_result"
    }
   ],
   "source": [
    "bisect.bisect_left(data, 12)"
   ]
  },
  {
   "cell_type": "code",
   "execution_count": 8,
   "id": "2bc1e3d4-00ac-4de0-a3c9-e2fabc6566cc",
   "metadata": {},
   "outputs": [
    {
     "data": {
      "text/plain": [
       "[1, 2, 5, 6, 9, 11, 12, 17, 23, 24, 39]"
      ]
     },
     "execution_count": 8,
     "metadata": {},
     "output_type": "execute_result"
    }
   ],
   "source": [
    "data.insert(bisect.bisect_left(data, 12), 12)\n",
    "data"
   ]
  },
  {
   "cell_type": "code",
   "execution_count": 11,
   "id": "f0862a83-f8f6-4356-af00-7680bb48f7d0",
   "metadata": {},
   "outputs": [
    {
     "data": {
      "text/plain": [
       "7"
      ]
     },
     "execution_count": 11,
     "metadata": {},
     "output_type": "execute_result"
    }
   ],
   "source": [
    "bisect.bisect(data, 12)"
   ]
  },
  {
   "cell_type": "code",
   "execution_count": 10,
   "id": "7102290b-5c20-4a1c-a9fb-e835f7638bf2",
   "metadata": {},
   "outputs": [
    {
     "data": {
      "text/plain": [
       "['F', 'A', 'C', 'C', 'B', 'A', 'A']"
      ]
     },
     "execution_count": 10,
     "metadata": {},
     "output_type": "execute_result"
    }
   ],
   "source": [
    "def grade(score, breakpoints=[60, 70, 80, 90], grades='FDCBA'):\n",
    "    i = bisect.bisect(breakpoints, score)\n",
    "    return grades[i]\n",
    "[grade(score) for score in [33, 99, 77, 70, 89, 90, 100]]"
   ]
  },
  {
   "cell_type": "code",
   "execution_count": 12,
   "id": "462ea406-2292-44b1-a80c-bd5c7783b49b",
   "metadata": {},
   "outputs": [
    {
     "data": {
      "text/plain": [
       "0"
      ]
     },
     "execution_count": 12,
     "metadata": {},
     "output_type": "execute_result"
    }
   ],
   "source": [
    "bisect.bisect([60, 70, 80, 90], 33)"
   ]
  },
  {
   "cell_type": "code",
   "execution_count": 13,
   "id": "368dc6d9-d0b1-4276-8937-d88b0e49ed46",
   "metadata": {},
   "outputs": [
    {
     "data": {
      "text/plain": [
       "4"
      ]
     },
     "execution_count": 13,
     "metadata": {},
     "output_type": "execute_result"
    }
   ],
   "source": [
    "bisect.bisect([60, 70, 80, 90], 99)"
   ]
  },
  {
   "cell_type": "code",
   "execution_count": 14,
   "id": "fd175e31-7b17-4ac1-9ed8-59bfd6ed64da",
   "metadata": {},
   "outputs": [
    {
     "data": {
      "text/plain": [
       "2"
      ]
     },
     "execution_count": 14,
     "metadata": {},
     "output_type": "execute_result"
    }
   ],
   "source": [
    "bisect.bisect([60, 70, 80, 90], 77)"
   ]
  }
 ],
 "metadata": {
  "kernelspec": {
   "display_name": "Python 3",
   "language": "python",
   "name": "python3"
  },
  "language_info": {
   "codemirror_mode": {
    "name": "ipython",
    "version": 3
   },
   "file_extension": ".py",
   "mimetype": "text/x-python",
   "name": "python",
   "nbconvert_exporter": "python",
   "pygments_lexer": "ipython3",
   "version": "3.8.5"
  }
 },
 "nbformat": 4,
 "nbformat_minor": 5
}
